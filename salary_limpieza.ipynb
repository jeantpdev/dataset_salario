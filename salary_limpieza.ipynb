{
 "cells": [
  {
   "cell_type": "code",
   "execution_count": 126,
   "metadata": {},
   "outputs": [],
   "source": [
    "import pandas as pd\n",
    "import matplotlib.pyplot as plt\n",
    "import seaborn as sns "
   ]
  },
  {
   "cell_type": "code",
   "execution_count": 127,
   "metadata": {},
   "outputs": [],
   "source": [
    "data = pd.read_csv('Salary_Data.csv')"
   ]
  },
  {
   "cell_type": "code",
   "execution_count": 128,
   "metadata": {},
   "outputs": [
    {
     "data": {
      "text/plain": [
       "(6704, 6)"
      ]
     },
     "execution_count": 128,
     "metadata": {},
     "output_type": "execute_result"
    }
   ],
   "source": [
    "data.shape"
   ]
  },
  {
   "cell_type": "code",
   "execution_count": 129,
   "metadata": {},
   "outputs": [
    {
     "name": "stdout",
     "output_type": "stream",
     "text": [
      "<class 'pandas.core.frame.DataFrame'>\n",
      "RangeIndex: 6704 entries, 0 to 6703\n",
      "Data columns (total 6 columns):\n",
      " #   Column               Non-Null Count  Dtype  \n",
      "---  ------               --------------  -----  \n",
      " 0   Age                  6702 non-null   float64\n",
      " 1   Gender               6702 non-null   object \n",
      " 2   Education Level      6701 non-null   object \n",
      " 3   Job Title            6702 non-null   object \n",
      " 4   Years of Experience  6701 non-null   float64\n",
      " 5   Salary               6699 non-null   float64\n",
      "dtypes: float64(3), object(3)\n",
      "memory usage: 314.4+ KB\n"
     ]
    }
   ],
   "source": [
    "data.info()"
   ]
  },
  {
   "cell_type": "code",
   "execution_count": 130,
   "metadata": {},
   "outputs": [
    {
     "name": "stdout",
     "output_type": "stream",
     "text": [
      "Columna Gender: ['Male' 'Female' nan 'Other'] subniveles\n",
      "\n",
      "Columna Education Level: [\"Bachelor's\" \"Master's\" 'PhD' nan \"Bachelor's Degree\" \"Master's Degree\"\n",
      " 'High School' 'phD'] subniveles\n",
      "\n",
      "Columna Job Title: ['Software Engineer' 'Data Analyst' 'Senior Manager' 'Sales Associate'\n",
      " 'Director' 'Marketing Analyst' 'Product Manager' 'Sales Manager'\n",
      " 'Marketing Coordinator' 'Senior Scientist' 'Software Developer'\n",
      " 'HR Manager' 'Financial Analyst' 'Project Manager' 'Customer Service Rep'\n",
      " 'Operations Manager' 'Marketing Manager' 'Senior Engineer'\n",
      " 'Data Entry Clerk' 'Sales Director' 'Business Analyst' 'VP of Operations'\n",
      " 'IT Support' 'Recruiter' 'Financial Manager' 'Social Media Specialist'\n",
      " 'Software Manager' 'Junior Developer' 'Senior Consultant'\n",
      " 'Product Designer' 'CEO' 'Accountant' 'Data Scientist'\n",
      " 'Marketing Specialist' 'Technical Writer' 'HR Generalist'\n",
      " 'Project Engineer' 'Customer Success Rep' 'Sales Executive' 'UX Designer'\n",
      " 'Operations Director' 'Network Engineer' 'Administrative Assistant'\n",
      " 'Strategy Consultant' 'Copywriter' 'Account Manager'\n",
      " 'Director of Marketing' 'Help Desk Analyst' 'Customer Service Manager'\n",
      " 'Business Intelligence Analyst' 'Event Coordinator' 'VP of Finance'\n",
      " 'Graphic Designer' 'UX Researcher' 'Social Media Manager'\n",
      " 'Director of Operations' 'Senior Data Scientist' 'Junior Accountant'\n",
      " 'Digital Marketing Manager' 'IT Manager'\n",
      " 'Customer Service Representative' 'Business Development Manager'\n",
      " 'Senior Financial Analyst' 'Web Developer' 'Research Director'\n",
      " 'Technical Support Specialist' 'Creative Director'\n",
      " 'Senior Software Engineer' 'Human Resources Director'\n",
      " 'Content Marketing Manager' 'Technical Recruiter' 'Sales Representative'\n",
      " 'Chief Technology Officer' 'Junior Designer' 'Financial Advisor'\n",
      " 'Junior Account Manager' 'Senior Project Manager' 'Principal Scientist'\n",
      " 'Supply Chain Manager' 'Senior Marketing Manager' 'Training Specialist'\n",
      " 'Research Scientist' 'Junior Software Developer'\n",
      " 'Public Relations Manager' 'Operations Analyst'\n",
      " 'Product Marketing Manager' 'Senior HR Manager' 'Junior Web Developer'\n",
      " 'Senior Project Coordinator' 'Chief Data Officer'\n",
      " 'Digital Content Producer' 'IT Support Specialist'\n",
      " 'Senior Marketing Analyst' 'Customer Success Manager'\n",
      " 'Senior Graphic Designer' 'Software Project Manager'\n",
      " 'Supply Chain Analyst' 'Senior Business Analyst'\n",
      " 'Junior Marketing Analyst' 'Office Manager' 'Principal Engineer'\n",
      " 'Junior HR Generalist' 'Senior Product Manager'\n",
      " 'Junior Operations Analyst' 'Senior HR Generalist'\n",
      " 'Sales Operations Manager' 'Senior Software Developer'\n",
      " 'Junior Web Designer' 'Senior Training Specialist'\n",
      " 'Senior Research Scientist' 'Junior Sales Representative'\n",
      " 'Junior Marketing Manager' 'Junior Data Analyst'\n",
      " 'Senior Product Marketing Manager' 'Junior Business Analyst'\n",
      " 'Senior Sales Manager' 'Junior Marketing Specialist'\n",
      " 'Junior Project Manager' 'Senior Accountant' 'Director of Sales'\n",
      " 'Junior Recruiter' 'Senior Business Development Manager'\n",
      " 'Senior Product Designer' 'Junior Customer Support Specialist'\n",
      " 'Senior IT Support Specialist' 'Junior Financial Analyst'\n",
      " 'Senior Operations Manager' 'Director of Human Resources'\n",
      " 'Junior Software Engineer' 'Senior Sales Representative'\n",
      " 'Director of Product Management' 'Junior Copywriter'\n",
      " 'Senior Marketing Coordinator' 'Senior Human Resources Manager'\n",
      " 'Junior Business Development Associate' 'Senior Account Manager'\n",
      " 'Senior Researcher' 'Junior HR Coordinator' 'Director of Finance'\n",
      " 'Junior Marketing Coordinator' nan 'Junior Data Scientist'\n",
      " 'Senior Operations Analyst' 'Senior Human Resources Coordinator'\n",
      " 'Senior UX Designer' 'Junior Product Manager'\n",
      " 'Senior Marketing Specialist' 'Senior IT Project Manager'\n",
      " 'Senior Quality Assurance Analyst' 'Director of Sales and Marketing'\n",
      " 'Senior Account Executive' 'Director of Business Development'\n",
      " 'Junior Social Media Manager' 'Senior Human Resources Specialist'\n",
      " 'Senior Data Analyst' 'Director of Human Capital'\n",
      " 'Junior Advertising Coordinator' 'Junior UX Designer'\n",
      " 'Senior Marketing Director' 'Senior IT Consultant'\n",
      " 'Senior Financial Advisor' 'Junior Business Operations Analyst'\n",
      " 'Junior Social Media Specialist' 'Senior Product Development Manager'\n",
      " 'Junior Operations Manager' 'Senior Software Architect'\n",
      " 'Junior Research Scientist' 'Senior Financial Manager'\n",
      " 'Senior HR Specialist' 'Senior Data Engineer'\n",
      " 'Junior Operations Coordinator' 'Director of HR'\n",
      " 'Senior Operations Coordinator' 'Junior Financial Advisor'\n",
      " 'Director of Engineering' 'Software Engineer Manager'\n",
      " 'Back end Developer' 'Senior Project Engineer' 'Full Stack Engineer'\n",
      " 'Front end Developer' 'Developer' 'Front End Developer'\n",
      " 'Director of Data Science' 'Human Resources Coordinator'\n",
      " 'Junior Sales Associate' 'Human Resources Manager'\n",
      " 'Juniour HR Generalist' 'Juniour HR Coordinator'\n",
      " 'Digital Marketing Specialist' 'Receptionist' 'Marketing Director'\n",
      " 'Social M' 'Social Media Man' 'Delivery Driver'] subniveles\n",
      "\n"
     ]
    }
   ],
   "source": [
    "# Conteo de los niveles en las diferentes columnas categóricas\n",
    "cols_cat = ['Gender', 'Education Level', 'Job Title']\n",
    "\n",
    "for col in cols_cat:\n",
    "  print(f'Columna {col}: {data[col].unique()} subniveles\\n')"
   ]
  },
  {
   "cell_type": "code",
   "execution_count": 131,
   "metadata": {},
   "outputs": [
    {
     "name": "stdout",
     "output_type": "stream",
     "text": [
      "Columna Gender: 3 subniveles\n",
      "\n",
      "Columna Education Level: 7 subniveles\n",
      "\n",
      "Columna Job Title: 193 subniveles\n",
      "\n"
     ]
    }
   ],
   "source": [
    "for col in cols_cat:\n",
    "  print(f'Columna {col}: {data[col].nunique()} subniveles\\n')"
   ]
  },
  {
   "cell_type": "markdown",
   "metadata": {},
   "source": [
    "# Etapa 1 - Datos faltantes"
   ]
  },
  {
   "cell_type": "code",
   "execution_count": 132,
   "metadata": {},
   "outputs": [
    {
     "data": {
      "text/plain": [
       "Age                    2\n",
       "Gender                 2\n",
       "Education Level        3\n",
       "Job Title              2\n",
       "Years of Experience    3\n",
       "Salary                 5\n",
       "dtype: int64"
      ]
     },
     "execution_count": 132,
     "metadata": {},
     "output_type": "execute_result"
    }
   ],
   "source": [
    "data.isnull().sum()"
   ]
  },
  {
   "cell_type": "code",
   "execution_count": 133,
   "metadata": {},
   "outputs": [
    {
     "name": "stdout",
     "output_type": "stream",
     "text": [
      "<class 'pandas.core.frame.DataFrame'>\n",
      "Index: 6698 entries, 0 to 6703\n",
      "Data columns (total 6 columns):\n",
      " #   Column               Non-Null Count  Dtype  \n",
      "---  ------               --------------  -----  \n",
      " 0   Age                  6698 non-null   float64\n",
      " 1   Gender               6698 non-null   object \n",
      " 2   Education Level      6698 non-null   object \n",
      " 3   Job Title            6698 non-null   object \n",
      " 4   Years of Experience  6698 non-null   float64\n",
      " 5   Salary               6698 non-null   float64\n",
      "dtypes: float64(3), object(3)\n",
      "memory usage: 366.3+ KB\n"
     ]
    }
   ],
   "source": [
    "data.dropna(inplace = True)\n",
    "data.info()"
   ]
  },
  {
   "cell_type": "markdown",
   "metadata": {},
   "source": [
    "# Etapa 2 - Columnas irrelevantes"
   ]
  },
  {
   "cell_type": "markdown",
   "metadata": {},
   "source": [
    "### Renombramiento de columnas"
   ]
  },
  {
   "cell_type": "code",
   "execution_count": 134,
   "metadata": {},
   "outputs": [
    {
     "data": {
      "text/plain": [
       "Index(['Age', 'Gender', 'Education_Level', 'Job_Title', 'Years_of_Experience',\n",
       "       'Salary'],\n",
       "      dtype='object')"
      ]
     },
     "execution_count": 134,
     "metadata": {},
     "output_type": "execute_result"
    }
   ],
   "source": [
    "data.rename(columns={'Education Level': 'Education_Level',\n",
    "                      'Job Title': 'Job_Title',\n",
    "                      'Years of Experience': 'Years_of_Experience'}, inplace= True)\n",
    "data.columns"
   ]
  },
  {
   "cell_type": "markdown",
   "metadata": {},
   "source": [
    "### Transformación de valores a minúscula"
   ]
  },
  {
   "cell_type": "code",
   "execution_count": 135,
   "metadata": {},
   "outputs": [
    {
     "data": {
      "text/html": [
       "<div>\n",
       "<style scoped>\n",
       "    .dataframe tbody tr th:only-of-type {\n",
       "        vertical-align: middle;\n",
       "    }\n",
       "\n",
       "    .dataframe tbody tr th {\n",
       "        vertical-align: top;\n",
       "    }\n",
       "\n",
       "    .dataframe thead th {\n",
       "        text-align: right;\n",
       "    }\n",
       "</style>\n",
       "<table border=\"1\" class=\"dataframe\">\n",
       "  <thead>\n",
       "    <tr style=\"text-align: right;\">\n",
       "      <th></th>\n",
       "      <th>Age</th>\n",
       "      <th>Gender</th>\n",
       "      <th>Education_Level</th>\n",
       "      <th>Job_Title</th>\n",
       "      <th>Years_of_Experience</th>\n",
       "      <th>Salary</th>\n",
       "    </tr>\n",
       "  </thead>\n",
       "  <tbody>\n",
       "    <tr>\n",
       "      <th>0</th>\n",
       "      <td>32.0</td>\n",
       "      <td>male</td>\n",
       "      <td>bachelor's</td>\n",
       "      <td>software engineer</td>\n",
       "      <td>5.0</td>\n",
       "      <td>90000.0</td>\n",
       "    </tr>\n",
       "    <tr>\n",
       "      <th>1</th>\n",
       "      <td>28.0</td>\n",
       "      <td>female</td>\n",
       "      <td>master's</td>\n",
       "      <td>data analyst</td>\n",
       "      <td>3.0</td>\n",
       "      <td>65000.0</td>\n",
       "    </tr>\n",
       "    <tr>\n",
       "      <th>2</th>\n",
       "      <td>45.0</td>\n",
       "      <td>male</td>\n",
       "      <td>phd</td>\n",
       "      <td>senior manager</td>\n",
       "      <td>15.0</td>\n",
       "      <td>150000.0</td>\n",
       "    </tr>\n",
       "    <tr>\n",
       "      <th>3</th>\n",
       "      <td>36.0</td>\n",
       "      <td>female</td>\n",
       "      <td>bachelor's</td>\n",
       "      <td>sales associate</td>\n",
       "      <td>7.0</td>\n",
       "      <td>60000.0</td>\n",
       "    </tr>\n",
       "    <tr>\n",
       "      <th>4</th>\n",
       "      <td>52.0</td>\n",
       "      <td>male</td>\n",
       "      <td>master's</td>\n",
       "      <td>director</td>\n",
       "      <td>20.0</td>\n",
       "      <td>200000.0</td>\n",
       "    </tr>\n",
       "  </tbody>\n",
       "</table>\n",
       "</div>"
      ],
      "text/plain": [
       "    Age  Gender Education_Level          Job_Title  Years_of_Experience  \\\n",
       "0  32.0    male      bachelor's  software engineer                  5.0   \n",
       "1  28.0  female        master's       data analyst                  3.0   \n",
       "2  45.0    male             phd     senior manager                 15.0   \n",
       "3  36.0  female      bachelor's    sales associate                  7.0   \n",
       "4  52.0    male        master's           director                 20.0   \n",
       "\n",
       "     Salary  \n",
       "0   90000.0  \n",
       "1   65000.0  \n",
       "2  150000.0  \n",
       "3   60000.0  \n",
       "4  200000.0  "
      ]
     },
     "execution_count": 135,
     "metadata": {},
     "output_type": "execute_result"
    }
   ],
   "source": [
    "columnas_categoricas = ['Gender', 'Education_Level', \"Job_Title\"]\n",
    "\n",
    "#Se transforman en minúscula\n",
    "for column in data.columns:\n",
    "    # Representar en minúsculas sólo si la columna es categórica\n",
    "    if column in columnas_categoricas:\n",
    "        data[column] = data[column].str.lower()\n",
    "\n",
    "data.head()\n",
    "\n"
   ]
  },
  {
   "cell_type": "code",
   "execution_count": 136,
   "metadata": {},
   "outputs": [],
   "source": [
    "# Conteo de los niveles en las diferentes columnas categóricas\n",
    "cols_cat = ['Gender', 'Education_Level', 'Job_Title']"
   ]
  },
  {
   "cell_type": "code",
   "execution_count": 137,
   "metadata": {},
   "outputs": [
    {
     "name": "stdout",
     "output_type": "stream",
     "text": [
      "Columna Gender: ['male' 'female' 'other'] subniveles\n",
      "\n",
      "Columna Education_Level: [\"bachelor's\" \"master's\" 'phd' \"bachelor's degree\" \"master's degree\"\n",
      " 'high school'] subniveles\n",
      "\n",
      "Columna Job_Title: ['software engineer' 'data analyst' 'senior manager' 'sales associate'\n",
      " 'director' 'marketing analyst' 'product manager' 'sales manager'\n",
      " 'marketing coordinator' 'senior scientist' 'software developer'\n",
      " 'hr manager' 'financial analyst' 'project manager' 'customer service rep'\n",
      " 'operations manager' 'marketing manager' 'senior engineer'\n",
      " 'data entry clerk' 'sales director' 'business analyst' 'vp of operations'\n",
      " 'it support' 'recruiter' 'financial manager' 'social media specialist'\n",
      " 'software manager' 'junior developer' 'senior consultant'\n",
      " 'product designer' 'ceo' 'accountant' 'data scientist'\n",
      " 'marketing specialist' 'technical writer' 'hr generalist'\n",
      " 'project engineer' 'customer success rep' 'sales executive' 'ux designer'\n",
      " 'operations director' 'network engineer' 'administrative assistant'\n",
      " 'strategy consultant' 'copywriter' 'account manager'\n",
      " 'director of marketing' 'help desk analyst' 'customer service manager'\n",
      " 'business intelligence analyst' 'event coordinator' 'vp of finance'\n",
      " 'graphic designer' 'ux researcher' 'social media manager'\n",
      " 'director of operations' 'senior data scientist' 'junior accountant'\n",
      " 'digital marketing manager' 'it manager'\n",
      " 'customer service representative' 'business development manager'\n",
      " 'senior financial analyst' 'web developer' 'research director'\n",
      " 'technical support specialist' 'creative director'\n",
      " 'senior software engineer' 'human resources director'\n",
      " 'content marketing manager' 'technical recruiter' 'sales representative'\n",
      " 'chief technology officer' 'junior designer' 'financial advisor'\n",
      " 'junior account manager' 'senior project manager' 'principal scientist'\n",
      " 'supply chain manager' 'senior marketing manager' 'training specialist'\n",
      " 'research scientist' 'junior software developer'\n",
      " 'public relations manager' 'operations analyst'\n",
      " 'product marketing manager' 'senior hr manager' 'junior web developer'\n",
      " 'senior project coordinator' 'chief data officer'\n",
      " 'digital content producer' 'it support specialist'\n",
      " 'senior marketing analyst' 'customer success manager'\n",
      " 'senior graphic designer' 'software project manager'\n",
      " 'supply chain analyst' 'senior business analyst'\n",
      " 'junior marketing analyst' 'office manager' 'principal engineer'\n",
      " 'junior hr generalist' 'senior product manager'\n",
      " 'junior operations analyst' 'senior hr generalist'\n",
      " 'sales operations manager' 'senior software developer'\n",
      " 'junior web designer' 'senior training specialist'\n",
      " 'senior research scientist' 'junior sales representative'\n",
      " 'junior marketing manager' 'junior data analyst'\n",
      " 'senior product marketing manager' 'junior business analyst'\n",
      " 'senior sales manager' 'junior marketing specialist'\n",
      " 'junior project manager' 'senior accountant' 'director of sales'\n",
      " 'junior recruiter' 'senior business development manager'\n",
      " 'senior product designer' 'junior customer support specialist'\n",
      " 'senior it support specialist' 'junior financial analyst'\n",
      " 'senior operations manager' 'director of human resources'\n",
      " 'junior software engineer' 'senior sales representative'\n",
      " 'director of product management' 'junior copywriter'\n",
      " 'senior marketing coordinator' 'senior human resources manager'\n",
      " 'junior business development associate' 'senior account manager'\n",
      " 'senior researcher' 'junior hr coordinator' 'director of finance'\n",
      " 'junior marketing coordinator' 'junior data scientist'\n",
      " 'senior operations analyst' 'senior human resources coordinator'\n",
      " 'senior ux designer' 'junior product manager'\n",
      " 'senior marketing specialist' 'senior it project manager'\n",
      " 'senior quality assurance analyst' 'director of sales and marketing'\n",
      " 'senior account executive' 'director of business development'\n",
      " 'junior social media manager' 'senior human resources specialist'\n",
      " 'senior data analyst' 'director of human capital'\n",
      " 'junior advertising coordinator' 'junior ux designer'\n",
      " 'senior marketing director' 'senior it consultant'\n",
      " 'senior financial advisor' 'junior business operations analyst'\n",
      " 'junior social media specialist' 'senior product development manager'\n",
      " 'junior operations manager' 'senior software architect'\n",
      " 'junior research scientist' 'senior financial manager'\n",
      " 'senior hr specialist' 'senior data engineer'\n",
      " 'junior operations coordinator' 'director of hr'\n",
      " 'senior operations coordinator' 'junior financial advisor'\n",
      " 'director of engineering' 'software engineer manager'\n",
      " 'back end developer' 'senior project engineer' 'full stack engineer'\n",
      " 'front end developer' 'director of data science'\n",
      " 'human resources coordinator' 'junior sales associate'\n",
      " 'human resources manager' 'juniour hr generalist'\n",
      " 'juniour hr coordinator' 'digital marketing specialist' 'receptionist'\n",
      " 'marketing director' 'social media man' 'delivery driver'] subniveles\n",
      "\n"
     ]
    }
   ],
   "source": [
    "for col in cols_cat:\n",
    "  print(f'Columna {col}: {data[col].unique()} subniveles\\n')\n"
   ]
  },
  {
   "cell_type": "code",
   "execution_count": 138,
   "metadata": {},
   "outputs": [
    {
     "name": "stdout",
     "output_type": "stream",
     "text": [
      "Columna Gender: 3 subniveles\n",
      "\n",
      "Columna Education_Level: 6 subniveles\n",
      "\n",
      "Columna Job_Title: 190 subniveles\n",
      "\n"
     ]
    }
   ],
   "source": [
    "for col in cols_cat:\n",
    "  print(f'Columna {col}: {data[col].nunique()} subniveles\\n')"
   ]
  },
  {
   "cell_type": "markdown",
   "metadata": {},
   "source": [
    "### Columnas numéricas"
   ]
  },
  {
   "cell_type": "code",
   "execution_count": 139,
   "metadata": {},
   "outputs": [
    {
     "data": {
      "text/html": [
       "<div>\n",
       "<style scoped>\n",
       "    .dataframe tbody tr th:only-of-type {\n",
       "        vertical-align: middle;\n",
       "    }\n",
       "\n",
       "    .dataframe tbody tr th {\n",
       "        vertical-align: top;\n",
       "    }\n",
       "\n",
       "    .dataframe thead th {\n",
       "        text-align: right;\n",
       "    }\n",
       "</style>\n",
       "<table border=\"1\" class=\"dataframe\">\n",
       "  <thead>\n",
       "    <tr style=\"text-align: right;\">\n",
       "      <th></th>\n",
       "      <th>Age</th>\n",
       "      <th>Years_of_Experience</th>\n",
       "      <th>Salary</th>\n",
       "    </tr>\n",
       "  </thead>\n",
       "  <tbody>\n",
       "    <tr>\n",
       "      <th>count</th>\n",
       "      <td>6698.000000</td>\n",
       "      <td>6698.000000</td>\n",
       "      <td>6698.000000</td>\n",
       "    </tr>\n",
       "    <tr>\n",
       "      <th>mean</th>\n",
       "      <td>33.623022</td>\n",
       "      <td>8.095178</td>\n",
       "      <td>115329.253061</td>\n",
       "    </tr>\n",
       "    <tr>\n",
       "      <th>std</th>\n",
       "      <td>7.615784</td>\n",
       "      <td>6.060291</td>\n",
       "      <td>52789.792507</td>\n",
       "    </tr>\n",
       "    <tr>\n",
       "      <th>min</th>\n",
       "      <td>21.000000</td>\n",
       "      <td>0.000000</td>\n",
       "      <td>350.000000</td>\n",
       "    </tr>\n",
       "    <tr>\n",
       "      <th>25%</th>\n",
       "      <td>28.000000</td>\n",
       "      <td>3.000000</td>\n",
       "      <td>70000.000000</td>\n",
       "    </tr>\n",
       "    <tr>\n",
       "      <th>50%</th>\n",
       "      <td>32.000000</td>\n",
       "      <td>7.000000</td>\n",
       "      <td>115000.000000</td>\n",
       "    </tr>\n",
       "    <tr>\n",
       "      <th>75%</th>\n",
       "      <td>38.000000</td>\n",
       "      <td>12.000000</td>\n",
       "      <td>160000.000000</td>\n",
       "    </tr>\n",
       "    <tr>\n",
       "      <th>max</th>\n",
       "      <td>62.000000</td>\n",
       "      <td>34.000000</td>\n",
       "      <td>250000.000000</td>\n",
       "    </tr>\n",
       "  </tbody>\n",
       "</table>\n",
       "</div>"
      ],
      "text/plain": [
       "               Age  Years_of_Experience         Salary\n",
       "count  6698.000000          6698.000000    6698.000000\n",
       "mean     33.623022             8.095178  115329.253061\n",
       "std       7.615784             6.060291   52789.792507\n",
       "min      21.000000             0.000000     350.000000\n",
       "25%      28.000000             3.000000   70000.000000\n",
       "50%      32.000000             7.000000  115000.000000\n",
       "75%      38.000000            12.000000  160000.000000\n",
       "max      62.000000            34.000000  250000.000000"
      ]
     },
     "execution_count": 139,
     "metadata": {},
     "output_type": "execute_result"
    }
   ],
   "source": [
    "data.describe()"
   ]
  },
  {
   "cell_type": "markdown",
   "metadata": {},
   "source": [
    "### Valores de la columna Education_Level reducido/unidos"
   ]
  },
  {
   "cell_type": "code",
   "execution_count": 140,
   "metadata": {},
   "outputs": [
    {
     "data": {
      "text/plain": [
       "array([\"bachelor's\", \"master's\", 'phd', \"bachelor's degree\",\n",
       "       \"master's degree\", 'high school'], dtype=object)"
      ]
     },
     "execution_count": 140,
     "metadata": {},
     "output_type": "execute_result"
    }
   ],
   "source": [
    "data['Education_Level'].unique()"
   ]
  },
  {
   "cell_type": "code",
   "execution_count": 141,
   "metadata": {},
   "outputs": [
    {
     "data": {
      "text/plain": [
       "array([\"bachelor's\", \"master's\", 'phd', 'high school'], dtype=object)"
      ]
     },
     "execution_count": 141,
     "metadata": {},
     "output_type": "execute_result"
    }
   ],
   "source": [
    "# Define a dictionary to map current values to new standardized values\n",
    "education_map = {\n",
    "    \"bachelor's degree\": \"bachelor's\",\n",
    "    \"master's degree\": \"master's\",\n",
    "}\n",
    "\n",
    "# Use the map to replace the values\n",
    "data['Education_Level'] = data['Education_Level'].replace(education_map)\n",
    "\n",
    "data['Education_Level'].unique()"
   ]
  },
  {
   "cell_type": "markdown",
   "metadata": {},
   "source": [
    "### Reducción de valores en la columna de Job_Title"
   ]
  },
  {
   "cell_type": "code",
   "execution_count": 142,
   "metadata": {},
   "outputs": [
    {
     "data": {
      "text/plain": [
       "Job_Title\n",
       "software engineer             518\n",
       "data scientist                453\n",
       "software engineer manager     376\n",
       "data analyst                  363\n",
       "senior project engineer       318\n",
       "                             ... \n",
       "copywriter                      1\n",
       "account manager                 1\n",
       "help desk analyst               1\n",
       "senior training specialist      1\n",
       "software project manager        1\n",
       "Name: count, Length: 190, dtype: int64"
      ]
     },
     "execution_count": 142,
     "metadata": {},
     "output_type": "execute_result"
    }
   ],
   "source": [
    "data['Job_Title'].value_counts()"
   ]
  },
  {
   "cell_type": "code",
   "execution_count": 143,
   "metadata": {},
   "outputs": [
    {
     "ename": "KeyError",
     "evalue": "'Job Title'",
     "output_type": "error",
     "traceback": [
      "\u001b[1;31m---------------------------------------------------------------------------\u001b[0m",
      "\u001b[1;31mKeyError\u001b[0m                                  Traceback (most recent call last)",
      "File \u001b[1;32mc:\\Users\\Bradl\\AppData\\Local\\Programs\\Python\\Python311\\Lib\\site-packages\\pandas\\core\\indexes\\base.py:3653\u001b[0m, in \u001b[0;36mIndex.get_loc\u001b[1;34m(self, key)\u001b[0m\n\u001b[0;32m   3652\u001b[0m \u001b[39mtry\u001b[39;00m:\n\u001b[1;32m-> 3653\u001b[0m     \u001b[39mreturn\u001b[39;00m \u001b[39mself\u001b[39;49m\u001b[39m.\u001b[39;49m_engine\u001b[39m.\u001b[39;49mget_loc(casted_key)\n\u001b[0;32m   3654\u001b[0m \u001b[39mexcept\u001b[39;00m \u001b[39mKeyError\u001b[39;00m \u001b[39mas\u001b[39;00m err:\n",
      "File \u001b[1;32mc:\\Users\\Bradl\\AppData\\Local\\Programs\\Python\\Python311\\Lib\\site-packages\\pandas\\_libs\\index.pyx:147\u001b[0m, in \u001b[0;36mpandas._libs.index.IndexEngine.get_loc\u001b[1;34m()\u001b[0m\n",
      "File \u001b[1;32mc:\\Users\\Bradl\\AppData\\Local\\Programs\\Python\\Python311\\Lib\\site-packages\\pandas\\_libs\\index.pyx:176\u001b[0m, in \u001b[0;36mpandas._libs.index.IndexEngine.get_loc\u001b[1;34m()\u001b[0m\n",
      "File \u001b[1;32mpandas\\_libs\\hashtable_class_helper.pxi:7080\u001b[0m, in \u001b[0;36mpandas._libs.hashtable.PyObjectHashTable.get_item\u001b[1;34m()\u001b[0m\n",
      "File \u001b[1;32mpandas\\_libs\\hashtable_class_helper.pxi:7088\u001b[0m, in \u001b[0;36mpandas._libs.hashtable.PyObjectHashTable.get_item\u001b[1;34m()\u001b[0m\n",
      "\u001b[1;31mKeyError\u001b[0m: 'Job Title'",
      "\nThe above exception was the direct cause of the following exception:\n",
      "\u001b[1;31mKeyError\u001b[0m                                  Traceback (most recent call last)",
      "Cell \u001b[1;32mIn[143], line 14\u001b[0m\n\u001b[0;32m     12\u001b[0m \u001b[39m# Loop through classifications and assign them to 'Job Classification' where appropriate\u001b[39;00m\n\u001b[0;32m     13\u001b[0m \u001b[39mfor\u001b[39;00m classification \u001b[39min\u001b[39;00m classifications:\n\u001b[1;32m---> 14\u001b[0m     data\u001b[39m.\u001b[39mloc[data[\u001b[39m'\u001b[39;49m\u001b[39mJob Title\u001b[39;49m\u001b[39m'\u001b[39;49m]\u001b[39m.\u001b[39mstr\u001b[39m.\u001b[39mcontains(classification, case\u001b[39m=\u001b[39m\u001b[39mFalse\u001b[39;00m, na\u001b[39m=\u001b[39m\u001b[39mFalse\u001b[39;00m), \u001b[39m'\u001b[39m\u001b[39mJob Classification\u001b[39m\u001b[39m'\u001b[39m] \u001b[39m=\u001b[39m classification\n\u001b[0;32m     16\u001b[0m \u001b[39m# Titles like 'CEO', 'VP', 'Executive', and 'Man' to be classified as 'Executive'\u001b[39;00m\n\u001b[0;32m     17\u001b[0m executives \u001b[39m=\u001b[39m [\u001b[39m'\u001b[39m\u001b[39mCEO\u001b[39m\u001b[39m'\u001b[39m, \u001b[39m'\u001b[39m\u001b[39mVP\u001b[39m\u001b[39m'\u001b[39m, \u001b[39m'\u001b[39m\u001b[39mExecutive\u001b[39m\u001b[39m'\u001b[39m, \u001b[39m'\u001b[39m\u001b[39mMan\u001b[39m\u001b[39m'\u001b[39m]\n",
      "File \u001b[1;32mc:\\Users\\Bradl\\AppData\\Local\\Programs\\Python\\Python311\\Lib\\site-packages\\pandas\\core\\frame.py:3761\u001b[0m, in \u001b[0;36mDataFrame.__getitem__\u001b[1;34m(self, key)\u001b[0m\n\u001b[0;32m   3759\u001b[0m \u001b[39mif\u001b[39;00m \u001b[39mself\u001b[39m\u001b[39m.\u001b[39mcolumns\u001b[39m.\u001b[39mnlevels \u001b[39m>\u001b[39m \u001b[39m1\u001b[39m:\n\u001b[0;32m   3760\u001b[0m     \u001b[39mreturn\u001b[39;00m \u001b[39mself\u001b[39m\u001b[39m.\u001b[39m_getitem_multilevel(key)\n\u001b[1;32m-> 3761\u001b[0m indexer \u001b[39m=\u001b[39m \u001b[39mself\u001b[39;49m\u001b[39m.\u001b[39;49mcolumns\u001b[39m.\u001b[39;49mget_loc(key)\n\u001b[0;32m   3762\u001b[0m \u001b[39mif\u001b[39;00m is_integer(indexer):\n\u001b[0;32m   3763\u001b[0m     indexer \u001b[39m=\u001b[39m [indexer]\n",
      "File \u001b[1;32mc:\\Users\\Bradl\\AppData\\Local\\Programs\\Python\\Python311\\Lib\\site-packages\\pandas\\core\\indexes\\base.py:3655\u001b[0m, in \u001b[0;36mIndex.get_loc\u001b[1;34m(self, key)\u001b[0m\n\u001b[0;32m   3653\u001b[0m     \u001b[39mreturn\u001b[39;00m \u001b[39mself\u001b[39m\u001b[39m.\u001b[39m_engine\u001b[39m.\u001b[39mget_loc(casted_key)\n\u001b[0;32m   3654\u001b[0m \u001b[39mexcept\u001b[39;00m \u001b[39mKeyError\u001b[39;00m \u001b[39mas\u001b[39;00m err:\n\u001b[1;32m-> 3655\u001b[0m     \u001b[39mraise\u001b[39;00m \u001b[39mKeyError\u001b[39;00m(key) \u001b[39mfrom\u001b[39;00m \u001b[39merr\u001b[39;00m\n\u001b[0;32m   3656\u001b[0m \u001b[39mexcept\u001b[39;00m \u001b[39mTypeError\u001b[39;00m:\n\u001b[0;32m   3657\u001b[0m     \u001b[39m# If we have a listlike key, _check_indexing_error will raise\u001b[39;00m\n\u001b[0;32m   3658\u001b[0m     \u001b[39m#  InvalidIndexError. Otherwise we fall through and re-raise\u001b[39;00m\n\u001b[0;32m   3659\u001b[0m     \u001b[39m#  the TypeError.\u001b[39;00m\n\u001b[0;32m   3660\u001b[0m     \u001b[39mself\u001b[39m\u001b[39m.\u001b[39m_check_indexing_error(key)\n",
      "\u001b[1;31mKeyError\u001b[0m: 'Job Title'"
     ]
    }
   ],
   "source": [
    "# Define a list of classifications\n",
    "classifications = ['Engineer', 'Analyst', 'Associate', 'Director', \n",
    "                   'Coordinator', 'Scientist', 'Developer', 'Representative',\n",
    "                   'Clerk', 'Rep', 'Support', 'Specialist', 'Consultant', \n",
    "                   'Designer', 'Writer', 'Generalist', 'Researcher', \n",
    "                   'Accountant', 'Recruiter', 'Officer', 'Advisor', \n",
    "                   'Producer', 'Copywriter']  # 'Manager' removed\n",
    "\n",
    "# Create a new column 'Job Classification' initialized with 'Other'\n",
    "data['Job Classification'] = 'Other'\n",
    "\n",
    "# Loop through classifications and assign them to 'Job Classification' where appropriate\n",
    "for classification in classifications:\n",
    "    data.loc[data['Job Title'].str.contains(classification, case=False, na=False), 'Job Classification'] = classification\n",
    "\n",
    "# Titles like 'CEO', 'VP', 'Executive', and 'Man' to be classified as 'Executive'\n",
    "executives = ['CEO', 'VP', 'Executive', 'Man']\n",
    "for executive in executives:\n",
    "    data.loc[data['Job Title'].str.contains(executive, case=False, na=False), 'Job Classification'] = 'Executive' \n",
    "\n",
    "# Classify 'Manager'\n",
    "data.loc[data['Job Title'].str.contains('Manager', case=False, na=False), 'Job Classification'] = 'Manager'\n",
    "\n",
    "# Verify the changes\n",
    "print(data['Job Classification'].value_counts())"
   ]
  },
  {
   "cell_type": "code",
   "execution_count": null,
   "metadata": {},
   "outputs": [],
   "source": [
    "#data.drop('Job_Title', axis = 1, inplace = True)\n",
    "#data.rename(columns={'Job_Classification': 'Job_Title'}, inplace = True)"
   ]
  },
  {
   "cell_type": "code",
   "execution_count": 144,
   "metadata": {},
   "outputs": [
    {
     "data": {
      "text/plain": [
       "Job_Title\n",
       "software engineer             518\n",
       "data scientist                453\n",
       "software engineer manager     376\n",
       "data analyst                  363\n",
       "senior project engineer       318\n",
       "                             ... \n",
       "copywriter                      1\n",
       "account manager                 1\n",
       "help desk analyst               1\n",
       "senior training specialist      1\n",
       "software project manager        1\n",
       "Name: count, Length: 190, dtype: int64"
      ]
     },
     "execution_count": 144,
     "metadata": {},
     "output_type": "execute_result"
    }
   ],
   "source": [
    "# Verify the changes\n",
    "data['Job_Title'].value_counts()"
   ]
  },
  {
   "cell_type": "code",
   "execution_count": null,
   "metadata": {},
   "outputs": [
    {
     "name": "stdout",
     "output_type": "stream",
     "text": [
      "Columna Gender: ['male' 'female' 'other'] subniveles\n",
      "\n",
      "Columna Education_Level: [\"bachelor's\" \"master's\" 'phd' 'high school'] subniveles\n",
      "\n",
      "Columna Job_Title: ['Engineer' 'Analyst' 'Manager' 'Associate' 'Director' 'Coordinator'\n",
      " 'Scientist' 'Developer' 'Other'] subniveles\n",
      "\n"
     ]
    }
   ],
   "source": [
    "for col in cols_cat:\n",
    "  print(f'Columna {col}: {data[col].unique()} subniveles\\n')"
   ]
  },
  {
   "cell_type": "code",
   "execution_count": null,
   "metadata": {},
   "outputs": [],
   "source": []
  }
 ],
 "metadata": {
  "kernelspec": {
   "display_name": "Python 3",
   "language": "python",
   "name": "python3"
  },
  "language_info": {
   "codemirror_mode": {
    "name": "ipython",
    "version": 3
   },
   "file_extension": ".py",
   "mimetype": "text/x-python",
   "name": "python",
   "nbconvert_exporter": "python",
   "pygments_lexer": "ipython3",
   "version": "3.11.4"
  },
  "orig_nbformat": 4
 },
 "nbformat": 4,
 "nbformat_minor": 2
}
